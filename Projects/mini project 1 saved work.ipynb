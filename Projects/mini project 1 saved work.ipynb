{
 "cells": [
  {
   "cell_type": "code",
   "execution_count": null,
   "metadata": {},
   "outputs": [],
   "source": [
    "# Problem 3\n",
    "# Calculate what the highest and lowest opening prices were for the stock in this period.\n",
    "\n",
    "highest = data['data'][0][1]\n",
    "lowest = data['data'][0][1]\n",
    "ans = {}\n",
    "for day in data['data']:\n",
    "    opening_price = day[1]\n",
    "    if (opening_price):\n",
    "        if opening_price >= highest:\n",
    "            ans['highest_opening_price'] = opening_price\n",
    "        if opening_price <= lowest:\n",
    "            ans['lowest_opening_price'] = opening_price\n",
    "print(ans)"
   ]
  },
  {
   "cell_type": "code",
   "execution_count": null,
   "metadata": {},
   "outputs": [],
   "source": [
    "# Problem 4\n",
    "# What was the largest change in any one day (based on High and Low price)?\n",
    "\n",
    "largest_change = data['data'][0][2] - data['data'][0][3] # High - Low\n",
    "for day in data['data']:\n",
    "    high = day[2]\n",
    "    low = day[3]\n",
    "    if (high != None and low != None):\n",
    "        change = high - low\n",
    "        if (change >= largest_change):\n",
    "            largest_change = change\n",
    "print(largest_change)"
   ]
  },
  {
   "cell_type": "code",
   "execution_count": null,
   "metadata": {},
   "outputs": [],
   "source": [
    "# Problem 5\n",
    "# What was the largest change between any two days (based on Closing Price)?\n",
    "\n",
    "highest = data['data'][0][4]\n",
    "lowest = data['data'][0][4]\n",
    "change = 0\n",
    "for day in data['data']:\n",
    "    closing_price = day[4]\n",
    "    if (closing_price):\n",
    "        if closing_price >= highest:\n",
    "            highest = closing_price\n",
    "        if closing_price <= lowest:\n",
    "            lowest = closing_price\n",
    "change = highest - lowest\n",
    "print(change)"
   ]
  },
  {
   "cell_type": "code",
   "execution_count": null,
   "metadata": {},
   "outputs": [],
   "source": [
    "# Not sure if it meant this though so...\n",
    "\n",
    "closing_prices = []\n",
    "for day in data['data']:\n",
    "    closing_price = day[4]\n",
    "    if (closing_price):\n",
    "        closing_prices.append(closing_price)\n",
    "        \n",
    "closing_changes = [j-k for j,k in zip(closing_prices[:-1], closing_prices[1:])]\n",
    "max_closing_change = max(closing_changes)\n",
    "print(max_closing_change)"
   ]
  },
  {
   "cell_type": "code",
   "execution_count": null,
   "metadata": {},
   "outputs": [],
   "source": [
    "# Problem 6\n",
    "# What was the average daily trading volume during this year?\n",
    "\n",
    "trade_vols = [day[6] for day in data['data'] if (day[6])]\n",
    "sum_trade_vols = sum(trade_vols)\n",
    "avg_trade_vols = sum_trade_vols / len(trade_vols)\n",
    "print(avg_trade_vols)"
   ]
  },
  {
   "cell_type": "code",
   "execution_count": null,
   "metadata": {},
   "outputs": [],
   "source": [
    "# Problem 7\n",
    "# (Optional) What was the median trading volume during this year. \n",
    "# (Note: you may need to implement your own function for calculating the median.)\n",
    "\n",
    "sorted_trade_vols = sorted(trade_vols)\n",
    "num_vals = len(sorted_trade_vols)\n",
    "median = None\n",
    "if num_vals % 2 == 1:\n",
    "    idx = (num_vals - 1) / 2\n",
    "    median = sorted_trade_vols[int(idx)]\n",
    "else:\n",
    "    idx1 = num_vals / 2\n",
    "    idx2 = idx1 - 1\n",
    "    median = (sorted_trade_vols[int(idx1)] + sorted_trade_vols[int(idx2)]) / 2\n",
    "print(median)"
   ]
  },
  {
   "cell_type": "code",
   "execution_count": null,
   "metadata": {},
   "outputs": [],
   "source": []
  },
  {
   "cell_type": "code",
   "execution_count": null,
   "metadata": {},
   "outputs": [],
   "source": []
  }
 ],
 "metadata": {
  "kernelspec": {
   "display_name": "Python 3",
   "language": "python",
   "name": "python3"
  },
  "language_info": {
   "codemirror_mode": {
    "name": "ipython",
    "version": 3
   },
   "file_extension": ".py",
   "mimetype": "text/x-python",
   "name": "python",
   "nbconvert_exporter": "python",
   "pygments_lexer": "ipython3",
   "version": "3.8.5"
  }
 },
 "nbformat": 4,
 "nbformat_minor": 4
}
